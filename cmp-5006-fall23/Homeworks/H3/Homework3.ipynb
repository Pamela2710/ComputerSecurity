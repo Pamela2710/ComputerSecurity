{
 "cells": [
  {
   "cell_type": "markdown",
   "id": "ee5d7513",
   "metadata": {},
   "source": [
    "# <center>Homework 3\n",
    "Pamela Pupiales 00213871"
   ]
  },
  {
   "cell_type": "markdown",
   "id": "bf260b84",
   "metadata": {},
   "source": [
    "## 1. Cookies\n",
    "### Who doesn't love cookies? Try to figure out the best one. http://mercury.picoctf.net:27177/"
   ]
  },
  {
   "cell_type": "markdown",
   "id": "c8c67f7a",
   "metadata": {},
   "source": [
    "![](./cookies_ans.png)"
   ]
  },
  {
   "cell_type": "markdown",
   "id": "aa5e699e",
   "metadata": {},
   "source": [
    "![](./flag_cookies.png)"
   ]
  },
  {
   "cell_type": "markdown",
   "id": "eeac152b",
   "metadata": {},
   "source": [
    "picoCTF{3v3ry1_l0v3s_c00k135_064663be}"
   ]
  },
  {
   "cell_type": "markdown",
   "id": "2f2dc41a",
   "metadata": {},
   "source": [
    "## 2. Scavenger Hunt\n",
    "### There is some interesting information hidden around this site http://mercury.picoctf.net:39491/. Can you find it?\n"
   ]
  },
  {
   "cell_type": "code",
   "execution_count": null,
   "id": "ee5b2117",
   "metadata": {},
   "outputs": [],
   "source": []
  }
 ],
 "metadata": {
  "kernelspec": {
   "display_name": "Python 3",
   "language": "python",
   "name": "python3"
  },
  "language_info": {
   "codemirror_mode": {
    "name": "ipython",
    "version": 3
   },
   "file_extension": ".py",
   "mimetype": "text/x-python",
   "name": "python",
   "nbconvert_exporter": "python",
   "pygments_lexer": "ipython3",
   "version": "3.8.8"
  }
 },
 "nbformat": 4,
 "nbformat_minor": 5
}
