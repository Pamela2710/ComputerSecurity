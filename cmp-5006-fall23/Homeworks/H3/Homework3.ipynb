{
 "cells": [
  {
   "cell_type": "markdown",
   "id": "7472eca2",
   "metadata": {},
   "source": [
    "# <center>Homework 3\n",
    "Pamela Pupiales 00213871"
   ]
  },
  {
   "cell_type": "markdown",
   "id": "af565f58",
   "metadata": {},
   "source": [
    "## 1. Cookies\n",
    "### Who doesn't love cookies? Try to figure out the best one. http://mercury.picoctf.net:27177/"
   ]
  },
  {
   "cell_type": "markdown",
   "id": "1803a691",
   "metadata": {},
   "source": [
    "![](./cookies_ans.png)"
   ]
  },
  {
   "cell_type": "markdown",
   "id": "0fb3fcd7",
   "metadata": {},
   "source": [
    "![](./flag_cookies.png)"
   ]
  },
  {
   "cell_type": "markdown",
   "id": "1e1bc367",
   "metadata": {},
   "source": [
    "picoCTF{3v3ry1_l0v3s_c00k135_064663be}"
   ]
  },
  {
   "cell_type": "markdown",
   "id": "b53aeffb",
   "metadata": {},
   "source": [
    "## 2. Scavenger Hunt\n",
    "### There is some interesting information hidden around this site http://mercury.picoctf.net:39491/. Can you find it?"
   ]
  },
  {
   "cell_type": "code",
   "execution_count": null,
   "id": "17b215d0",
   "metadata": {},
   "outputs": [],
   "source": []
  }
 ],
 "metadata": {
  "kernelspec": {
   "display_name": "Python 3",
   "language": "python",
   "name": "python3"
  },
  "language_info": {
   "codemirror_mode": {
    "name": "ipython",
    "version": 3
   },
   "file_extension": ".py",
   "mimetype": "text/x-python",
   "name": "python",
   "nbconvert_exporter": "python",
   "pygments_lexer": "ipython3",
   "version": "3.8.8"
  }
 },
 "nbformat": 4,
 "nbformat_minor": 5
}
