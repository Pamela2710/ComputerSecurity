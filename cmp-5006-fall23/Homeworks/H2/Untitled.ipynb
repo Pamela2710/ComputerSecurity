{
 "cells": [
  {
   "cell_type": "markdown",
   "id": "ebedf8e4",
   "metadata": {},
   "source": [
    "# <center> Homework 2\n",
    "\n",
    "Pamela Pupiales 00213871"
   ]
  },
  {
   "cell_type": "markdown",
   "id": "baa8b68c",
   "metadata": {},
   "source": [
    "## Exercise 1\n",
    "\n",
    "**1. Suppose a password is chosen as a concatenation of seven lower-case dictionary words. Each word is selected uniformly at random from a dictionary of size 50,000. An example of such a password is \"mothercathousefivenextcrossroom\". How many bits of entropy does this have?**"
   ]
  },
  {
   "cell_type": "markdown",
   "id": "4279d856",
   "metadata": {},
   "source": [
    "entropy = log2(# possibilities) \n",
    "The total number of possibilities would be "
   ]
  },
  {
   "cell_type": "code",
   "execution_count": 5,
   "id": "e6ea13cc",
   "metadata": {},
   "outputs": [
    {
     "name": "stdout",
     "output_type": "stream",
     "text": [
      "109.26748332105768\n"
     ]
    }
   ],
   "source": [
    "import math\n",
    "\n",
    "x = 50000 ** 7 \n",
    "answer = math.log(x, 2)\n",
    "print(answer) # ≈ 109 bits"
   ]
  },
  {
   "cell_type": "markdown",
   "id": "d04328a0",
   "metadata": {},
   "source": [
    "**2. Consider an alternative scheme where a password is chosen as a sequence of 10 random alphanumeric characters (including both lower-case and upper-case letters). An example is \"dA3mG67Rrs\". How many bits of entropy does this have?**"
   ]
  },
  {
   "cell_type": "code",
   "execution_count": 9,
   "id": "6d4761a6",
   "metadata": {},
   "outputs": [
    {
     "name": "stdout",
     "output_type": "stream",
     "text": [
      "59.54196310386876\n"
     ]
    }
   ],
   "source": [
    "import math\n",
    "#For an alphanumeric character, there are in total \n",
    "x = (26+26+10) ** 10\n",
    "answer = math.log(x, 2)\n",
    "print(answer) # ≈ 59 bits"
   ]
  },
  {
   "cell_type": "markdown",
   "id": "5d983a34",
   "metadata": {},
   "source": [
    "**3. Which password is better, the one from 1. or 2.?**"
   ]
  },
  {
   "cell_type": "markdown",
   "id": "1f00ceaa",
   "metadata": {},
   "source": [
    "mothercathousefivenextcrossroom is the stronger because entropy is higher"
   ]
  },
  {
   "cell_type": "markdown",
   "id": "3e05639d",
   "metadata": {},
   "source": [
    "## Exercise 2\n",
    "\n",
    "**1. Design a data verification system using hash functions. Explain the steps involved in the process.**"
   ]
  },
  {
   "cell_type": "markdown",
   "id": "3aa1c6f5",
   "metadata": {},
   "source": [
    "A data verification system using hash functions involves the following steps:\n",
    "\n",
    "1. Data Input: Have some data that needs to be verified.\n",
    "2. Hash Function: Choose a suitable hash function.\n",
    "3. Compute Hash: Pass the input data through the hash function to compute the hash code.\n",
    "4. Store Hash: Store the computed hash code securely.\n",
    "5. Verification Process: Pass the potentially altered data through the same hash function again to produce a new hash code.\n",
    "6. Compare Hashes: Compare this new hash code with the original one."
   ]
  },
  {
   "cell_type": "code",
   "execution_count": 45,
   "id": "6237f450",
   "metadata": {},
   "outputs": [
    {
     "name": "stdout",
     "output_type": "stream",
     "text": [
      "Data is verified and has not been altered\n"
     ]
    }
   ],
   "source": [
    "import hashlib\n",
    "\n",
    "# 1: Data Input\n",
    "data = \"Hello, World\"\n",
    "\n",
    "# 2: Choose Hash Function\n",
    "hash_function = hashlib.sha256()\n",
    "\n",
    "# 3: Compute Hash\n",
    "hash_function.update(data.encode())\n",
    "original_hash = hash_function.hexdigest()\n",
    "\n",
    "# 4: Store Hash\n",
    "# Now, just keep it in memory.\n",
    "# In a real system, you might store this in a secure database or file.\n",
    "\n",
    "# 5: Verification Process\n",
    "received_data = \"Hello, World\"\n",
    "hash_function = hashlib.sha256()\n",
    "hash_function.update(received_data.encode())\n",
    "new_hash = hash_function.hexdigest()\n",
    "\n",
    "# 6: Compare Hashes\n",
    "if original_hash == new_hash:\n",
    "    print(\"Data is verified and has not been altered\")\n",
    "else:\n",
    "    print(\"Data has been altered!\")\n"
   ]
  },
  {
   "cell_type": "markdown",
   "id": "134acd40",
   "metadata": {},
   "source": [
    "**2. Discuss the advantages and disadvantages of using hash functions for data verification.**"
   ]
  },
  {
   "cell_type": "markdown",
   "id": "c40a53fd",
   "metadata": {},
   "source": [
    "Advantages of using hash functions for data verification include ensuring data integrity, computational efficiency, and security. However, disadvantages include potential collisions (different inputs producing the same output), irreversibility (hashed data can’t be reversed or decrypted), and performance overheads."
   ]
  },
  {
   "cell_type": "markdown",
   "id": "022eb414",
   "metadata": {},
   "source": [
    "**3. Provide an example of a real-world application where a data verification system using hash functions is used.**"
   ]
  },
  {
   "cell_type": "markdown",
   "id": "0d62e247",
   "metadata": {},
   "source": [
    "A real-world application of a data verification system using hash functions is in cybersecurity for password storage and verification. When a user creates an account, the system hashes the password and stores the hash. When the user logs in, the system hashes the entered password and compares it with the stored hash. If they match, access is granted. This ensures that even if someone gains unauthorized access to the stored hashes, they cannot determine the original passwords."
   ]
  },
  {
   "cell_type": "markdown",
   "id": "38fde8cf",
   "metadata": {},
   "source": [
    "## Exercise 3\n",
    "\n",
    "**1. Define what a Message Authentication Code (MAC) is and how it is used in cryptography.**"
   ]
  },
  {
   "cell_type": "markdown",
   "id": "9d3b7fa5",
   "metadata": {},
   "source": [
    "A message's origin and content are verified using a MAC, a brief piece of data. It is employed to confirm the validity of data passed from one person to another or sent over a network. In other words, MAC makes sure that the data being transported across a network, kept inside or outside a system, or both, is authentic and free of malicious code, and that the message is coming from the proper sender and has not been altered."
   ]
  },
  {
   "cell_type": "markdown",
   "id": "6bd19b9b",
   "metadata": {},
   "source": [
    "**2. Explain the process of generating and verifying a MAC.**"
   ]
  },
  {
   "cell_type": "markdown",
   "id": "71698871",
   "metadata": {},
   "source": [
    "* A secure channel is created between the sender and the recipient.\n",
    "* The MAC system employs an algorithm that encrypts messages using a symmetric key and the delivered plain text message.\n",
    "* After processing the message, the MAC algorithm creates authentication tags with a predetermined length. The message's MAC is the outcome of the computation.\n",
    "The message is subsequently forwarded to the receiver with this MAC added.\n",
    "The same algorithm is used by the receiver to calculate the MAC.\n",
    "* The communication is confirmed to be genuine, valid, and unaltered if the resulting MAC the recipient determines matches the one sent by the sender."
   ]
  },
  {
   "cell_type": "markdown",
   "id": "4add50a0",
   "metadata": {},
   "source": [
    "**3. Discuss the importance of using MACs in secure communication systems.**"
   ]
  },
  {
   "cell_type": "markdown",
   "id": "f981abc4",
   "metadata": {},
   "source": [
    "It is crucial to utilize MACs in secure communication systems because they help to confirm that communications are genuine and have not been altered while being transmitted. This guards against malicious assaults like man-in-the-middle attacks and helps to prevent unauthorized access to sensitive information."
   ]
  },
  {
   "cell_type": "markdown",
   "id": "6d6f1b1f",
   "metadata": {},
   "source": [
    "## Exercise 4\n",
    "\n",
    "**Given the values of p = 17 and q = 23, generate a pair of keys for RSA.**"
   ]
  },
  {
   "cell_type": "code",
   "execution_count": 34,
   "id": "0a5e3c45",
   "metadata": {},
   "outputs": [
    {
     "name": "stdout",
     "output_type": "stream",
     "text": [
      "Public key: (2, 391)\n",
      "Private key: (235.0, 391)\n"
     ]
    }
   ],
   "source": [
    "import math\n",
    " \n",
    "p = 17\n",
    "q = 23\n",
    "n = p*q\n",
    "x = (p-1)*(q-1)\n",
    "i = 2\n",
    "k = 2\n",
    "\n",
    "while(i<x):\n",
    "    if (math.gcd(i, x) == 1):\n",
    "        break\n",
    "    else:\n",
    "        i += 1\n",
    " \n",
    "d = ((k*x)+1)/i\n",
    "\n",
    "print('Public key:', (e, n))\n",
    "print('Private key:', (d, n))"
   ]
  },
  {
   "cell_type": "markdown",
   "id": "c657a52c",
   "metadata": {},
   "source": [
    "## Exercise 5\n",
    "\n",
    "**1. Design a public key infrastructure (PKI) system. Explain the components and their roles in the system.**"
   ]
  },
  {
   "cell_type": "markdown",
   "id": "d1ed64e9",
   "metadata": {},
   "source": [
    "Public Key Infrastructure (PKI) system:\n",
    "\n",
    "1. End Entities: Users of the PKI system, can be individuals or servers.\n",
    "2. Certificate Authority: Issues and revokes digital certificates.\n",
    "3. Registration Authority: Verifies identities before a certificate is issued by the Certificate Authority.\n",
    "4. Validation Authority: Provides certificate status information.\n",
    "5. Certificate Database: Stores issued certificates and status information.\n",
    "6. Certificate Store: Where end entities store their certificates and private keys.\n",
    "7. Key Backup and Recovery System: Allows for secure backup and recovery of keys.\n",
    "8. Cryptographic Module: Provides cryptographic functions."
   ]
  },
  {
   "cell_type": "markdown",
   "id": "5bd36bc3",
   "metadata": {},
   "source": [
    "**2. Discuss the advantages and challenges of implementing a PKI system.**"
   ]
  },
  {
   "cell_type": "markdown",
   "id": "b475be59",
   "metadata": {},
   "source": [
    "#### Advantages:\n",
    "\n",
    "* Security: PKI provides a high level of security for communications and can help prevent eavesdropping, tampering, and forgery.\n",
    "* Authentication: Digital certificates provide a means of proving your identity in electronic transactions.\n",
    "* Integrity: You can ensure that data has not been tampered with during transmission.\n",
    "* Non-repudiation: A sender cannot deny the authenticity of the sent message.\n",
    "\n",
    "#### Challenges:\n",
    "\n",
    "* Complexity: Implementing a PKI system can be complex and requires specialized knowledge.\n",
    "* Cost: PKI systems can be expensive to implement and maintain.\n",
    "* Key Management: Securely managing, storing, and recovering keys can be challenging.\n",
    "* Scalability: As the number of users increases, managing certificates and keys becomes more difficult."
   ]
  },
  {
   "cell_type": "markdown",
   "id": "1c5dd8ab",
   "metadata": {},
   "source": [
    "**3. Provide an example of a real-world application where a PKI system is used.**"
   ]
  },
  {
   "cell_type": "markdown",
   "id": "1624c46e",
   "metadata": {},
   "source": [
    "* Secure Email Services PKI is used for encryption and digital signing of secure email services, when you send an encrypted email you use the recipients public key to encrypt the message, the receiver uses his private key to decrypt it, this ensures that only the intended recipient can read the email. \n",
    "* For digital signatures the sender uses their private key to create a signature for the message. The recipient can use the senders public key to verify the signature. This ensures that the email is not spoofed and verifies the identity of the sender. This application of PKI provides confidentiality  integrity and authentication in email communications."
   ]
  },
  {
   "cell_type": "markdown",
   "id": "e5d5d2de",
   "metadata": {},
   "source": [
    "## Exercise 6\n",
    "\n",
    "**Design a system for digital signatures based on public-key cryptography. Explain the steps involved in the process and the role of each component.**"
   ]
  },
  {
   "cell_type": "markdown",
   "id": "0442982b",
   "metadata": {},
   "source": [
    "system based on public-key cryptography\n",
    "\n",
    "1. **Key Generation**: The first step in the process is to generate a pair of keys - a private key and a public key. The private key is kept secret by the user, while the public key is made publicly available. The keys are mathematically linked, but it's computationally infeasible to derive the private key from the public key.\n",
    "\n",
    "2. **Signing**: When the user wants to send a digitally signed message, they first create a hash of the message using a cryptographic hash function. This hash is then encrypted using the user's private key to create the digital signature.\n",
    "\n",
    "3. **Verification**: The recipient of the message uses the sender's public key to decrypt the digital signature back into the original hash value. They also compute the hash of the received message. If both hash values match, it verifies that the message was not tampered with during transmission and that it indeed came from the sender.\n",
    "\n",
    "Here's how each component plays its role:\n",
    "\n",
    "- **Private Key**: This is used to encrypt the hash of the message. It must be kept secret by the owner.\n",
    "\n",
    "- **Public Key**: This is used by others to decrypt the received digital signature back into a hash value. It can be freely distributed and is used to verify that the message came from the specific sender.\n",
    "\n",
    "- **Cryptographic Hash Function**: This is used to create a hash of the message. It ensures that even a small change in the message will produce a significantly different hash.\n",
    "\n",
    "- **Digital Signature**: This is the encrypted hash of the message. It serves as proof that the message came from the sender and wasn't tampered with during transmission.\n",
    "\n",
    "Remember, this is a simplified explanation and actual implementations may include additional steps and components for enhanced security."
   ]
  }
 ],
 "metadata": {
  "kernelspec": {
   "display_name": "Python 3",
   "language": "python",
   "name": "python3"
  },
  "language_info": {
   "codemirror_mode": {
    "name": "ipython",
    "version": 3
   },
   "file_extension": ".py",
   "mimetype": "text/x-python",
   "name": "python",
   "nbconvert_exporter": "python",
   "pygments_lexer": "ipython3",
   "version": "3.8.8"
  }
 },
 "nbformat": 4,
 "nbformat_minor": 5
}
