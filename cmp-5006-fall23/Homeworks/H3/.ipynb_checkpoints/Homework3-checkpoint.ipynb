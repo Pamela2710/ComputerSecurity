{
 "cells": [
  {
   "cell_type": "markdown",
   "id": "7472eca2",
   "metadata": {},
   "source": [
    "# <center>Homework 3\n",
    "Pamela Pupiales 00213871"
   ]
  },
  {
   "cell_type": "markdown",
   "id": "af565f58",
   "metadata": {},
   "source": [
    "## 1. Cookies\n",
    "### Who doesn't love cookies? Try to figure out the best one. http://mercury.picoctf.net:27177/"
   ]
  },
  {
   "cell_type": "markdown",
   "id": "f9e67191",
   "metadata": {},
   "source": [
    "When we enter the page where the link is redirected, it sends us to a form where we must enter the word that is as placeholder, in turn it will return a default message and so on while changing the value of the cookie in the window. inspection of the page while we change the value of the cookie from 0 to 17, when changing it to 18 we will have the PICO flag"
   ]
  },
  {
   "cell_type": "markdown",
   "id": "1803a691",
   "metadata": {},
   "source": [
    "![](./cookies_ans.png)"
   ]
  },
  {
   "cell_type": "markdown",
   "id": "0fb3fcd7",
   "metadata": {},
   "source": [
    "![](./flag_cookies.png)"
   ]
  },
  {
   "cell_type": "markdown",
   "id": "1e1bc367",
   "metadata": {},
   "source": [
    "picoCTF{3v3ry1_l0v3s_c00k135_064663be}"
   ]
  },
  {
   "cell_type": "markdown",
   "id": "b53aeffb",
   "metadata": {},
   "source": [
    "## 2. Scavenger Hunt\n",
    "### There is some interesting information hidden around this site http://mercury.picoctf.net:39491/. Can you find it?"
   ]
  },
  {
   "cell_type": "markdown",
   "id": "48f3cf41",
   "metadata": {},
   "source": [
    "When we enter the page we review the html code and at the end of this code the first part of the PICO flag is commented \n",
    "Here's the first part of the flag: **picoCTF{t** <br>\n",
    "Then we look in other css, html, txt, htaccess and DS_Store files for the rest of the PICO flag"
   ]
  },
  {
   "cell_type": "markdown",
   "id": "a2fa4c31",
   "metadata": {},
   "source": [
    "![](./exercise2.png)"
   ]
  },
  {
   "cell_type": "markdown",
   "id": "4696cbe7",
   "metadata": {},
   "source": [
    "whe have mycss.css so the link is **http://mercury.picoctf.net:39491/mycss.css** <br>\n",
    "also we have myjs.js **http://mercury.picoctf.net:39491/myjs.js**"
   ]
  },
  {
   "cell_type": "markdown",
   "id": "ef2cce57",
   "metadata": {},
   "source": [
    "![](./exercise2.1.png)"
   ]
  },
  {
   "cell_type": "markdown",
   "id": "e8a1483b",
   "metadata": {},
   "source": [
    "css file <br>\n",
    "Flag: h4ts_4_l0"
   ]
  },
  {
   "cell_type": "markdown",
   "id": "62ed6275",
   "metadata": {},
   "source": [
    "![](./exercise2.2.png)"
   ]
  },
  {
   "cell_type": "markdown",
   "id": "c44c329b",
   "metadata": {},
   "source": [
    "js file"
   ]
  },
  {
   "cell_type": "markdown",
   "id": "2cce24f2",
   "metadata": {},
   "source": [
    "![](./exercise2.3.png)"
   ]
  },
  {
   "cell_type": "markdown",
   "id": "0e6ad03e",
   "metadata": {},
   "source": [
    "we have robots.txt it is used to manage the traffic of trackers. <br>\n",
    "Flag: t_0f_pl4c"
   ]
  },
  {
   "cell_type": "markdown",
   "id": "427f0d38",
   "metadata": {},
   "source": [
    "![](./exercise2.4.png)"
   ]
  },
  {
   "cell_type": "markdown",
   "id": "68325375",
   "metadata": {},
   "source": [
    "Also .htaccess <br>\n",
    "Flag: 3s_2_lO0k"
   ]
  },
  {
   "cell_type": "markdown",
   "id": "8163a92b",
   "metadata": {},
   "source": [
    "![](./exercise2.5.png)"
   ]
  },
  {
   "cell_type": "markdown",
   "id": "984060c0",
   "metadata": {},
   "source": [
    "and finally .DS_Store <br>\n",
    "Flag: _f7ce8828}"
   ]
  },
  {
   "cell_type": "markdown",
   "id": "41545041",
   "metadata": {},
   "source": [
    "![](./exercise2.6.png)"
   ]
  },
  {
   "cell_type": "markdown",
   "id": "e87c8774",
   "metadata": {},
   "source": [
    "picoCTF{th4ts_4_l0t_0f_pl4c3s_2_lO0k_f7ce8828}"
   ]
  },
  {
   "cell_type": "markdown",
   "id": "eb7dd6d4",
   "metadata": {},
   "source": [
    "## 3. findme\n",
    "### Help us test the form by submiting the username as test and password as test! Additional details will be available after launching your challenge instance.\n"
   ]
  },
  {
   "cell_type": "markdown",
   "id": "95e22589",
   "metadata": {},
   "source": [
    "We start by starting the instance which activates the page http://saturn.picoctf.net:port"
   ]
  },
  {
   "cell_type": "markdown",
   "id": "9dba1a0a",
   "metadata": {},
   "source": [
    "![](./exercise3.png)"
   ]
  },
  {
   "cell_type": "markdown",
   "id": "40af2498",
   "metadata": {},
   "source": [
    "Afterwards, the page contains a form where you enter a username and password."
   ]
  },
  {
   "cell_type": "markdown",
   "id": "a26dca51",
   "metadata": {},
   "source": [
    "![](./exercise3.2.png)"
   ]
  },
  {
   "cell_type": "markdown",
   "id": "bef0801c",
   "metadata": {},
   "source": [
    "Web page Welcome fellow human is the result but we have to pay attention to redirections that happened before the web page are charging "
   ]
  },
  {
   "cell_type": "markdown",
   "id": "df740014",
   "metadata": {},
   "source": [
    "![](./exercise3.1.png)"
   ]
  },
  {
   "cell_type": "markdown",
   "id": "8e153fdb",
   "metadata": {},
   "source": [
    "![](./exercise3.3.png)"
   ]
  },
  {
   "cell_type": "markdown",
   "id": "9c5ceb59",
   "metadata": {},
   "source": [
    "We have the next redirections <br>\n",
    "http://saturn.picoctf.net:64746/next-page/id=cGljb0NURntwcm94aWVzX2Fs <br>\n",
    "http://saturn.picoctf.net:64746/next-page/id=bF90aGVfd2F5XzNkOWUzNjk3fQ== <br>\n",
    "        \n",
    "Notice that have a id='content' <br>\n",
    "Next we take both id and have a character string: <br>\n",
    "cGljb0NURntwcm94aWVzX2FsbF90aGVfd2F5XzNkOWUzNjk3fQ== <br>\n",
    "and finally decode Base64, the result is <br>\n",
    "picoCTF{proxies_all_the_way_3d9e3697}"
   ]
  },
  {
   "cell_type": "markdown",
   "id": "5aa2d4d3",
   "metadata": {},
   "source": [
    "![](./exercise3.4.png)"
   ]
  },
  {
   "cell_type": "markdown",
   "id": "9eee2c0b",
   "metadata": {},
   "source": [
    "## 4. Inspect HTML\n",
    "### Can you get the flag?\n",
    "Go to this website: http://saturn.picoctf.net:56488/ and see what you can discover.\n"
   ]
  },
  {
   "cell_type": "markdown",
   "id": "5894a0c8",
   "metadata": {},
   "source": [
    "![](./exercise4.png)"
   ]
  },
  {
   "cell_type": "markdown",
   "id": "d8eda89c",
   "metadata": {},
   "source": [
    "Result\n",
    "picoCTF{1n5p3t0r_0f_h7ml_1fd8425b}"
   ]
  },
  {
   "cell_type": "markdown",
   "id": "4adb7f36",
   "metadata": {},
   "source": [
    "## 5. It is my Birthday\n",
    "### I sent out 2 invitations to all of my friends for my birthday! I'll know if they get stolen because the two invites look similar, and they even have the same md5 hash, but they are slightly different! You wouldn't believe how long it took me to find a collision. Anyway, see if you're invited by submitting 2 PDFs to my website. http://mercury.picoctf.net:50970/\n"
   ]
  },
  {
   "cell_type": "markdown",
   "id": "a6ffb180",
   "metadata": {},
   "source": [
    "https://www.mscs.dal.ca/~selinger/md5collision/ we need download the files hello.exe and erase.exe\n",
    "Both files have the same MD5 hash"
   ]
  },
  {
   "cell_type": "markdown",
   "id": "dd477dc4",
   "metadata": {},
   "source": [
    "![](./exercise4.1.png)"
   ]
  },
  {
   "cell_type": "markdown",
   "id": "ea38dcb6",
   "metadata": {},
   "source": [
    "![](./exercise4.2.png)"
   ]
  },
  {
   "cell_type": "markdown",
   "id": "f581bb80",
   "metadata": {},
   "source": [
    "## 6. Local Authority\n",
    "### Can you get the flag? Go to this website: http://saturn.picoctf.net:49386/ and see what you can discover."
   ]
  },
  {
   "cell_type": "markdown",
   "id": "e72e64f3",
   "metadata": {},
   "source": [
    "![](./exercise6.png)"
   ]
  },
  {
   "cell_type": "markdown",
   "id": "464cc3fc",
   "metadata": {},
   "source": [
    "![](./exercise6.1.png)"
   ]
  },
  {
   "cell_type": "markdown",
   "id": "5b9e8a5a",
   "metadata": {},
   "source": [
    "![](./exercise6.2.png)"
   ]
  },
  {
   "cell_type": "markdown",
   "id": "64b84e49",
   "metadata": {},
   "source": [
    "picoCTF{j5_15_7r4n5p4r3n7_b0c2c9cb}  "
   ]
  },
  {
   "cell_type": "markdown",
   "id": "fca0f444",
   "metadata": {},
   "source": [
    "## 7. login\n",
    "### My dog-sitter's brother made this website but I can't get in; can you help? login.mars.picoctf.net"
   ]
  },
  {
   "cell_type": "markdown",
   "id": "6902c6ec",
   "metadata": {},
   "source": [
    "![](./exercise7.png)"
   ]
  },
  {
   "cell_type": "markdown",
   "id": "e87e3aad",
   "metadata": {},
   "source": [
    "![](./exercise7.1.png)"
   ]
  },
  {
   "cell_type": "markdown",
   "id": "cb8c6c75",
   "metadata": {},
   "source": [
    "![](./exercise7.2.png)"
   ]
  },
  {
   "cell_type": "markdown",
   "id": "6728e65e",
   "metadata": {},
   "source": [
    "![](./exercise7.3.png)"
   ]
  },
  {
   "cell_type": "markdown",
   "id": "c381bf06",
   "metadata": {},
   "source": [
    "picoCTF{53rv3r_53rv3r_53rv3r_53rv3r_53rv3r}"
   ]
  },
  {
   "cell_type": "markdown",
   "id": "85df9073",
   "metadata": {},
   "source": [
    "## 8. logon\n",
    "### The factory is hiding things from all of its users. Can you login as Joe and find what they've been looking at? https://jupiter.challenges.picoctf.org/problem/15796/ (link) or http://jupiter.challenges.picoctf.org:15796"
   ]
  },
  {
   "cell_type": "markdown",
   "id": "96453b93",
   "metadata": {},
   "source": [
    "![](./exercise8.png)"
   ]
  },
  {
   "cell_type": "markdown",
   "id": "64392113",
   "metadata": {},
   "source": [
    "![](./exercise8.1.png)"
   ]
  },
  {
   "cell_type": "markdown",
   "id": "ec7503ff",
   "metadata": {},
   "source": [
    "![](./exercise8.2.png)"
   ]
  },
  {
   "cell_type": "markdown",
   "id": "81a36bc7",
   "metadata": {},
   "source": [
    "picoCTF{th3_c0nsp1r4cy_l1v3s_6edb3f5f}"
   ]
  },
  {
   "cell_type": "markdown",
   "id": "283a8d3c",
   "metadata": {},
   "source": [
    "## 9. Search source\n",
    "### The developer of this website mistakenly left an important artifact in the website source, can you find it?\n",
    "The website is here: http://saturn.picoctf.net:59405/"
   ]
  },
  {
   "cell_type": "markdown",
   "id": "a1d227b8",
   "metadata": {},
   "source": [
    "![](./exercise9.png)"
   ]
  },
  {
   "cell_type": "markdown",
   "id": "51f2f7d7",
   "metadata": {},
   "source": [
    "![](./exercise9.1.png)"
   ]
  },
  {
   "cell_type": "markdown",
   "id": "5a07947f",
   "metadata": {},
   "source": [
    "![](./exercise9.2.png)"
   ]
  },
  {
   "cell_type": "markdown",
   "id": "4453bf6d",
   "metadata": {},
   "source": [
    "picoCTF{1nsp3ti0n_0f_w3bpag3s_8de925a7}"
   ]
  },
  {
   "cell_type": "markdown",
   "id": "a036ea2a",
   "metadata": {},
   "source": [
    "## 10. where are the robots\n",
    "### Can you find the robots? https://jupiter.challenges.picoctf.org/problem/60915/ (link) or http://jupiter.challenges.picoctf.org:60915"
   ]
  },
  {
   "cell_type": "markdown",
   "id": "247a1032",
   "metadata": {},
   "source": [
    "![](./exercise10.png)"
   ]
  },
  {
   "cell_type": "markdown",
   "id": "d1923eb7",
   "metadata": {},
   "source": [
    "![](./exercise10.1.png)"
   ]
  },
  {
   "cell_type": "markdown",
   "id": "db13143c",
   "metadata": {},
   "source": [
    "picoCTF{ca1cu1at1ng_Mach1n3s_8028f}"
   ]
  },
  {
   "cell_type": "code",
   "execution_count": null,
   "id": "1bb361c0",
   "metadata": {},
   "outputs": [],
   "source": []
  }
 ],
 "metadata": {
  "kernelspec": {
   "display_name": "Python 3",
   "language": "python",
   "name": "python3"
  },
  "language_info": {
   "codemirror_mode": {
    "name": "ipython",
    "version": 3
   },
   "file_extension": ".py",
   "mimetype": "text/x-python",
   "name": "python",
   "nbconvert_exporter": "python",
   "pygments_lexer": "ipython3",
   "version": "3.8.8"
  }
 },
 "nbformat": 4,
 "nbformat_minor": 5
}
