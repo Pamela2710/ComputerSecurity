{
 "cells": [
  {
   "cell_type": "markdown",
   "id": "7472eca2",
   "metadata": {},
   "source": [
    "# <center>Homework 3\n",
    "Pamela Pupiales 00213871"
   ]
  },
  {
   "cell_type": "markdown",
   "id": "af565f58",
   "metadata": {},
   "source": [
    "## 1. Cookies\n",
    "### Who doesn't love cookies? Try to figure out the best one. http://mercury.picoctf.net:27177/"
   ]
  },
  {
   "cell_type": "markdown",
   "id": "f9e67191",
   "metadata": {},
   "source": [
    "When we enter the page where the link is redirected, it sends us to a form where we must enter the word that is as placeholder, in turn it will return a default message and so on while changing the value of the cookie in the window. inspection of the page while we change the value of the cookie from 0 to 17, when changing it to 18 we will have the PICO flag"
   ]
  },
  {
   "cell_type": "markdown",
   "id": "1803a691",
   "metadata": {},
   "source": [
    "![](./cookies_ans.png)"
   ]
  },
  {
   "cell_type": "markdown",
   "id": "0fb3fcd7",
   "metadata": {},
   "source": [
    "![](./flag_cookies.png)"
   ]
  },
  {
   "cell_type": "markdown",
   "id": "1e1bc367",
   "metadata": {},
   "source": [
    "picoCTF{3v3ry1_l0v3s_c00k135_064663be}"
   ]
  },
  {
   "cell_type": "markdown",
   "id": "b53aeffb",
   "metadata": {},
   "source": [
    "## 2. Scavenger Hunt\n",
    "### There is some interesting information hidden around this site http://mercury.picoctf.net:39491/. Can you find it?"
   ]
  },
  {
   "cell_type": "markdown",
   "id": "48f3cf41",
   "metadata": {},
   "source": [
    "When we enter the page we review the html code and at the end of this code the first part of the PICO flag is commented \n",
    "Here's the first part of the flag: **picoCTF{t** <br>\n",
    "Then we look in other css, html, txt, htaccess and DS_Store files for the rest of the PICO flag"
   ]
  },
  {
   "cell_type": "markdown",
   "id": "a2fa4c31",
   "metadata": {},
   "source": [
    "![](./exercise2.png)"
   ]
  },
  {
   "cell_type": "markdown",
   "id": "4696cbe7",
   "metadata": {},
   "source": [
    "We have mycss.css so the link is **http://mercury.picoctf.net:39491/mycss.css** <br>\n",
    "also we have myjs.js **http://mercury.picoctf.net:39491/myjs.js**"
   ]
  },
  {
   "cell_type": "markdown",
   "id": "ef2cce57",
   "metadata": {},
   "source": [
    "![](./exercise2.1.png)"
   ]
  },
  {
   "cell_type": "markdown",
   "id": "e8a1483b",
   "metadata": {},
   "source": [
    "css file <br>\n",
    "Flag: h4ts_4_l0"
   ]
  },
  {
   "cell_type": "markdown",
   "id": "62ed6275",
   "metadata": {},
   "source": [
    "![](./exercise2.2.png)"
   ]
  },
  {
   "cell_type": "markdown",
   "id": "c44c329b",
   "metadata": {},
   "source": [
    "js file"
   ]
  },
  {
   "cell_type": "markdown",
   "id": "2cce24f2",
   "metadata": {},
   "source": [
    "![](./exercise2.3.png)"
   ]
  },
  {
   "cell_type": "markdown",
   "id": "0e6ad03e",
   "metadata": {},
   "source": [
    "we have robots.txt it is used to manage the traffic of trackers. <br>\n",
    "Flag: t_0f_pl4c"
   ]
  },
  {
   "cell_type": "markdown",
   "id": "427f0d38",
   "metadata": {},
   "source": [
    "![](./exercise2.4.png)"
   ]
  },
  {
   "cell_type": "markdown",
   "id": "68325375",
   "metadata": {},
   "source": [
    "Also .htaccess <br>\n",
    "Flag: 3s_2_lO0k"
   ]
  },
  {
   "cell_type": "markdown",
   "id": "8163a92b",
   "metadata": {},
   "source": [
    "![](./exercise2.5.png)"
   ]
  },
  {
   "cell_type": "markdown",
   "id": "984060c0",
   "metadata": {},
   "source": [
    "and finally .DS_Store <br>\n",
    "Flag: _f7ce8828}"
   ]
  },
  {
   "cell_type": "markdown",
   "id": "41545041",
   "metadata": {},
   "source": [
    "![](./exercise2.6.png)"
   ]
  },
  {
   "cell_type": "markdown",
   "id": "e87c8774",
   "metadata": {},
   "source": [
    "picoCTF{th4ts_4_l0t_0f_pl4c3s_2_lO0k_f7ce8828}"
   ]
  },
  {
   "cell_type": "markdown",
   "id": "eb7dd6d4",
   "metadata": {},
   "source": [
    "## 3. findme\n",
    "### Help us test the form by submiting the username as test and password as test! Additional details will be available after launching your challenge instance.\n"
   ]
  },
  {
   "cell_type": "markdown",
   "id": "95e22589",
   "metadata": {},
   "source": [
    "We start by starting the instance which activates the page http://saturn.picoctf.net:port"
   ]
  },
  {
   "cell_type": "markdown",
   "id": "9dba1a0a",
   "metadata": {},
   "source": [
    "![](./exercise3.png)"
   ]
  },
  {
   "cell_type": "markdown",
   "id": "40af2498",
   "metadata": {},
   "source": [
    "Afterwards, the page contains a form where you enter a username and password."
   ]
  },
  {
   "cell_type": "markdown",
   "id": "a26dca51",
   "metadata": {},
   "source": [
    "![](./exercise3.2.png)"
   ]
  },
  {
   "cell_type": "markdown",
   "id": "bef0801c",
   "metadata": {},
   "source": [
    "Web page Welcome fellow human is the result but we have to pay attention to redirections that happened before the web page are charging "
   ]
  },
  {
   "cell_type": "markdown",
   "id": "df740014",
   "metadata": {},
   "source": [
    "![](./exercise3.1.png)"
   ]
  },
  {
   "cell_type": "markdown",
   "id": "8e153fdb",
   "metadata": {},
   "source": [
    "![](./exercise3.3.png)"
   ]
  },
  {
   "cell_type": "markdown",
   "id": "9c5ceb59",
   "metadata": {},
   "source": [
    "We have the next redirections before http://saturn.picoctf.net:49678/home appear <br>\n",
    "http://saturn.picoctf.net:49678/next-page/id=cGljb0NURntwcm94aWVzX2Fs <br>\n",
    "http://saturn.picoctf.net:49678/next-page/id=bF90aGVfd2F5XzNkOWUzNjk3fQ== <br>\n",
    "        \n",
    "Notice that have a id='content' <br>\n",
    "Next we take both id and have a character string: <br>\n",
    "cGljb0NURntwcm94aWVzX2FsbF90aGVfd2F5XzNkOWUzNjk3fQ== <br>\n",
    "and finally decode Base64, the result is <br>\n",
    "picoCTF{proxies_all_the_way_3d9e3697}"
   ]
  },
  {
   "cell_type": "code",
   "execution_count": 24,
   "id": "3c590f12",
   "metadata": {},
   "outputs": [
    {
     "data": {
      "text/plain": [
       "b'picoCTF{proxies_all_the_way_3d9e3697}'"
      ]
     },
     "execution_count": 24,
     "metadata": {},
     "output_type": "execute_result"
    }
   ],
   "source": [
    "encodeText = 'cGljb0NURntwcm94aWVzX2FsbF90aGVfd2F5XzNkOWUzNjk3fQ=='\n",
    "base64.b64decode(encodeText)"
   ]
  },
  {
   "cell_type": "markdown",
   "id": "9eee2c0b",
   "metadata": {},
   "source": [
    "## 4. Inspect HTML\n",
    "### Can you get the flag?\n",
    "Go to this website: http://saturn.picoctf.net:56488/ and see what you can discover.\n",
    "\n"
   ]
  },
  {
   "cell_type": "markdown",
   "id": "c874d45a",
   "metadata": {},
   "source": [
    "First we enter the link and look in the page code for clues or the flag of the exercise, we easily find it in the HTML code commented at the end of the body"
   ]
  },
  {
   "cell_type": "markdown",
   "id": "5894a0c8",
   "metadata": {},
   "source": [
    "![](./exercise4.png)"
   ]
  },
  {
   "cell_type": "markdown",
   "id": "d8eda89c",
   "metadata": {},
   "source": [
    "Result\n",
    "picoCTF{1n5p3t0r_0f_h7ml_1fd8425b}"
   ]
  },
  {
   "cell_type": "markdown",
   "id": "4adb7f36",
   "metadata": {},
   "source": [
    "## 5. It is my Birthday\n",
    "### I sent out 2 invitations to all of my friends for my birthday! I'll know if they get stolen because the two invites look similar, and they even have the same md5 hash, but they are slightly different! You wouldn't believe how long it took me to find a collision. Anyway, see if you're invited by submitting 2 PDFs to my website. http://mercury.picoctf.net:50970/\n"
   ]
  },
  {
   "cell_type": "markdown",
   "id": "a6ffb180",
   "metadata": {},
   "source": [
    "https://www.mscs.dal.ca/~selinger/md5collision/ we need download the files hello.exe and erase.exe\n",
    "Both files have the same MD5 hash\n",
    "It is necessary to change the extension of the executables to pdf to be able to upload them to the website"
   ]
  },
  {
   "cell_type": "markdown",
   "id": "dd477dc4",
   "metadata": {},
   "source": [
    "![](./exercise4.1.png)"
   ]
  },
  {
   "cell_type": "markdown",
   "id": "86307e51",
   "metadata": {},
   "source": [
    "When we upload the documents we can immediately see the php code and the commented flag in a part of the code"
   ]
  },
  {
   "cell_type": "markdown",
   "id": "ea38dcb6",
   "metadata": {},
   "source": [
    "![](./exercise4.2.png)"
   ]
  },
  {
   "cell_type": "markdown",
   "id": "f581bb80",
   "metadata": {},
   "source": [
    "## 6. Local Authority\n",
    "### Can you get the flag? Go to this website: http://saturn.picoctf.net:49386/ and see what you can discover."
   ]
  },
  {
   "cell_type": "markdown",
   "id": "18c2b992",
   "metadata": {},
   "source": [
    "When entering the page we find a form in which we do not know the username and password, therefore we can test the form by entering any value, as expected it will send us a credential failure message"
   ]
  },
  {
   "cell_type": "markdown",
   "id": "44f73ee7",
   "metadata": {},
   "source": [
    "![](./exercise6.3.png)"
   ]
  },
  {
   "cell_type": "markdown",
   "id": "c50d40d4",
   "metadata": {},
   "source": [
    "but when reviewing the code of the page we found a new link which ends in secure.js"
   ]
  },
  {
   "cell_type": "markdown",
   "id": "72707b0f",
   "metadata": {},
   "source": [
    "![](./exercise6.png)"
   ]
  },
  {
   "cell_type": "markdown",
   "id": "3916d998",
   "metadata": {},
   "source": [
    "When entering the page we obtain the user data and password which is in a function that verifies if data is correct."
   ]
  },
  {
   "cell_type": "markdown",
   "id": "5f9b1270",
   "metadata": {},
   "source": [
    "![](./exercise6.1.png)"
   ]
  },
  {
   "cell_type": "markdown",
   "id": "5a7cf493",
   "metadata": {},
   "source": [
    "we enter the credentials again in the form and get the flag"
   ]
  },
  {
   "cell_type": "markdown",
   "id": "5770ccaf",
   "metadata": {},
   "source": [
    "![](./exercise6.2.png)"
   ]
  },
  {
   "cell_type": "markdown",
   "id": "de608893",
   "metadata": {},
   "source": [
    "picoCTF{j5_15_7r4n5p4r3n7_b0c2c9cb}  "
   ]
  },
  {
   "cell_type": "markdown",
   "id": "055a8ed9",
   "metadata": {},
   "source": [
    "## 7. login\n",
    "### My dog-sitter's brother made this website but I can't get in; can you help? login.mars.picoctf.net"
   ]
  },
  {
   "cell_type": "markdown",
   "id": "f8b1fe00",
   "metadata": {},
   "source": [
    "Likewise, we review all the links that the index.js code has"
   ]
  },
  {
   "cell_type": "markdown",
   "id": "35eeed9f",
   "metadata": {},
   "source": [
    "![](./exercise7.png)"
   ]
  },
  {
   "cell_type": "markdown",
   "id": "45e1a192",
   "metadata": {},
   "source": [
    "Here we can also see how in this asynchronous method it verifies that the username and password are correct, so we have the information we need there."
   ]
  },
  {
   "cell_type": "markdown",
   "id": "854a1752",
   "metadata": {},
   "source": [
    "![](./exercise7.1.png)"
   ]
  },
  {
   "cell_type": "markdown",
   "id": "fa40ef01",
   "metadata": {},
   "source": [
    "but the information is encoded in base64 so we proceed to decrypt"
   ]
  },
  {
   "cell_type": "code",
   "execution_count": 36,
   "id": "daaec1e8",
   "metadata": {},
   "outputs": [
    {
     "data": {
      "text/plain": [
       "b'admin'"
      ]
     },
     "execution_count": 36,
     "metadata": {},
     "output_type": "execute_result"
    }
   ],
   "source": [
    "user = 'YWRtaW4'\n",
    "base64.b64decode(user + \"==\")"
   ]
  },
  {
   "cell_type": "markdown",
   "id": "f78790bd",
   "metadata": {},
   "source": [
    "When we decrypt the password we can see that it is the flag we were looking for"
   ]
  },
  {
   "cell_type": "code",
   "execution_count": 37,
   "id": "eeee2947",
   "metadata": {},
   "outputs": [
    {
     "data": {
      "text/plain": [
       "b'picoCTF{53rv3r_53rv3r_53rv3r_53rv3r_53rv3r}'"
      ]
     },
     "execution_count": 37,
     "metadata": {},
     "output_type": "execute_result"
    }
   ],
   "source": [
    "password = 'cGljb0NURns1M3J2M3JfNTNydjNyXzUzcnYzcl81M3J2M3JfNTNydjNyfQ'\n",
    "base64.b64decode(password + \"==\")"
   ]
  },
  {
   "cell_type": "markdown",
   "id": "ca0d626f",
   "metadata": {},
   "source": [
    "Likewise, we can enter this username and password already decrypted and it will return the flag in a pop-up message."
   ]
  },
  {
   "cell_type": "markdown",
   "id": "30f474f8",
   "metadata": {},
   "source": [
    "![](./exercise7.3.png)"
   ]
  },
  {
   "cell_type": "markdown",
   "id": "0a36cbec",
   "metadata": {},
   "source": [
    "picoCTF{53rv3r_53rv3r_53rv3r_53rv3r_53rv3r}"
   ]
  },
  {
   "cell_type": "markdown",
   "id": "a3721955",
   "metadata": {},
   "source": [
    "## 8. logon\n",
    "### The factory is hiding things from all of its users. Can you login as Joe and find what they've been looking at? https://jupiter.challenges.picoctf.org/problem/15796/ (link) or http://jupiter.challenges.picoctf.org:15796"
   ]
  },
  {
   "cell_type": "markdown",
   "id": "b0a388cb",
   "metadata": {},
   "source": [
    "When we enter the page we find a form which does not have validations in the fields, so when we press the button to send data it immediately sends us this message"
   ]
  },
  {
   "cell_type": "markdown",
   "id": "6fd811a8",
   "metadata": {},
   "source": [
    "![](./exercise8.png)"
   ]
  },
  {
   "cell_type": "markdown",
   "id": "0ba3ef27",
   "metadata": {},
   "source": [
    "We review the code and cookies and we find that the admin cookie has a value of 'false' so we have to change that value to true to be able to see the changes and information that can help us solve the problem"
   ]
  },
  {
   "cell_type": "markdown",
   "id": "6c650e44",
   "metadata": {},
   "source": [
    "![](./exercise8.1.png)"
   ]
  },
  {
   "cell_type": "markdown",
   "id": "13606080",
   "metadata": {},
   "source": [
    "When we reload the page with the cookie value set to true we can see the exercise flag"
   ]
  },
  {
   "cell_type": "markdown",
   "id": "1804d5be",
   "metadata": {},
   "source": [
    "![](./exercise8.2.png)"
   ]
  },
  {
   "cell_type": "markdown",
   "id": "9024b2da",
   "metadata": {},
   "source": [
    "picoCTF{th3_c0nsp1r4cy_l1v3s_6edb3f5f}"
   ]
  },
  {
   "cell_type": "markdown",
   "id": "337d83fe",
   "metadata": {},
   "source": [
    "## 9. Search source\n",
    "### The developer of this website mistakenly left an important artifact in the website source, can you find it?\n",
    "The website is here: http://saturn.picoctf.net:59405/"
   ]
  },
  {
   "cell_type": "markdown",
   "id": "fef642c8",
   "metadata": {},
   "source": [
    "There are 2 ways to find the flag in the exercise.\n",
    "The first is to manually search the entire code for the flag."
   ]
  },
  {
   "cell_type": "markdown",
   "id": "6ea2df7b",
   "metadata": {},
   "source": [
    "![](./exercise9.png)"
   ]
  },
  {
   "cell_type": "markdown",
   "id": "76e87cf0",
   "metadata": {},
   "source": [
    "the flag is commented and hidden in the styles file"
   ]
  },
  {
   "cell_type": "markdown",
   "id": "1adbd92c",
   "metadata": {},
   "source": [
    "![](./exercise9.1.png)"
   ]
  },
  {
   "cell_type": "markdown",
   "id": "b391fbb8",
   "metadata": {},
   "source": [
    "but a faster way is using commands in pico CTF console <br>\n",
    "\n",
    "wget -m: Used for mirroring websites by downloading entire directory structures and files recursively from a given URL.\n",
    "\n",
    "grep -r: Used for recursively searching for a specified text pattern in files and directories within a specified directory."
   ]
  },
  {
   "cell_type": "code",
   "execution_count": null,
   "id": "347cb01b",
   "metadata": {},
   "outputs": [],
   "source": [
    "pamela27-picoctf@webshell:~$ wget -m http://saturn.picoctf.net:59405/\n",
    "--2023-11-21 14:41:59--  http://saturn.picoctf.net:59405/\n",
    "Resolving saturn.picoctf.net (saturn.picoctf.net)... 13.59.203.175\n",
    "Connecting to saturn.picoctf.net (saturn.picoctf.net)|13.59.203.175|:59405... connected.\n",
    "HTTP request sent, awaiting response... 304 Not Modified\n",
    "File 'saturn.picoctf.net:59405/index.html' not modified on server. Omitting download.\n",
    "\n",
    "pamela27-picoctf@webshell:~$ grep -r \"picoCTF\" *\n",
    "README.txt:Welcome to the picoCTF webshell!\n",
    "README.txt:picoCTF challenges.\n",
    "README.txt:  Extensive brute-forcing is not necessary to solve picoCTF challenges.\n",
    "README.txt:- If you change your username through the picoCTF website, you will\n",
    "saturn.picoctf.net:59405/css/style.css:/** banner_main picoCTF{1nsp3ti0n_0f_w3bpag3s_8de925a7} **/"
   ]
  },
  {
   "cell_type": "markdown",
   "id": "e40a078b",
   "metadata": {},
   "source": [
    "Webshell picoCTF"
   ]
  },
  {
   "cell_type": "markdown",
   "id": "f75edac3",
   "metadata": {},
   "source": [
    "![](./exercise9.2.png)"
   ]
  },
  {
   "cell_type": "markdown",
   "id": "607810c1",
   "metadata": {},
   "source": [
    "picoCTF{1nsp3ti0n_0f_w3bpag3s_8de925a7}"
   ]
  },
  {
   "cell_type": "markdown",
   "id": "cbe6c09c",
   "metadata": {},
   "source": [
    "## 10. where are the robots\n",
    "### Can you find the robots? https://jupiter.challenges.picoctf.org/problem/60915/ (link) or http://jupiter.challenges.picoctf.org:60915"
   ]
  },
  {
   "cell_type": "markdown",
   "id": "308321c9",
   "metadata": {},
   "source": [
    "We have to pay attention to robots.txt file because the title is a hint <br>\n",
    "when we enter that file we can see a new html file"
   ]
  },
  {
   "cell_type": "markdown",
   "id": "252051e3",
   "metadata": {},
   "source": [
    "![](./exercise10.png)"
   ]
  },
  {
   "cell_type": "markdown",
   "id": "7d9dbd16",
   "metadata": {},
   "source": [
    "When entering that html we can find the flag"
   ]
  },
  {
   "cell_type": "markdown",
   "id": "e0f9ed8b",
   "metadata": {},
   "source": [
    "![](./exercise10.1.png)"
   ]
  },
  {
   "cell_type": "markdown",
   "id": "d910a962",
   "metadata": {},
   "source": [
    "picoCTF{ca1cu1at1ng_Mach1n3s_8028f}"
   ]
  }
 ],
 "metadata": {
  "kernelspec": {
   "display_name": "Python 3",
   "language": "python",
   "name": "python3"
  },
  "language_info": {
   "codemirror_mode": {
    "name": "ipython",
    "version": 3
   },
   "file_extension": ".py",
   "mimetype": "text/x-python",
   "name": "python",
   "nbconvert_exporter": "python",
   "pygments_lexer": "ipython3",
   "version": "3.8.8"
  }
 },
 "nbformat": 4,
 "nbformat_minor": 5
}
