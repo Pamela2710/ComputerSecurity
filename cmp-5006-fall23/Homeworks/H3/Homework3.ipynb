{
 "cells": [
  {
   "cell_type": "markdown",
   "id": "7472eca2",
   "metadata": {},
   "source": [
    "# <center>Homework 3\n",
    "Pamela Pupiales 00213871"
   ]
  },
  {
   "cell_type": "markdown",
   "id": "af565f58",
   "metadata": {},
   "source": [
    "## 1. Cookies\n",
    "### Who doesn't love cookies? Try to figure out the best one. http://mercury.picoctf.net:27177/"
   ]
  },
  {
   "cell_type": "markdown",
   "id": "f9e67191",
   "metadata": {},
   "source": [
    "When we enter the page where the link is redirected, it sends us to a form where we must enter the word that is as placeholder, in turn it will return a default message and so on while changing the value of the cookie in the window. inspection of the page while we change the value of the cookie from 0 to 17, when changing it to 18 we will have the PICO flag"
   ]
  },
  {
   "cell_type": "markdown",
   "id": "1803a691",
   "metadata": {},
   "source": [
    "![](./cookies_ans.png)"
   ]
  },
  {
   "cell_type": "markdown",
   "id": "0fb3fcd7",
   "metadata": {},
   "source": [
    "![](./flag_cookies.png)"
   ]
  },
  {
   "cell_type": "markdown",
   "id": "1e1bc367",
   "metadata": {},
   "source": [
    "picoCTF{3v3ry1_l0v3s_c00k135_064663be}"
   ]
  },
  {
   "cell_type": "markdown",
   "id": "b53aeffb",
   "metadata": {},
   "source": [
    "## 2. Scavenger Hunt\n",
    "### There is some interesting information hidden around this site http://mercury.picoctf.net:39491/. Can you find it?"
   ]
  },
  {
   "cell_type": "markdown",
   "id": "48f3cf41",
   "metadata": {},
   "source": [
    "When we enter the page we review the html code and at the end of this code the first part of the PICO flag is commented \n",
    "Here's the first part of the flag: **picoCTF{t**\n",
    "Then we look in other css, html, txt, htaccess and DS_Store files for the rest of the PICO flag"
   ]
  },
  {
   "cell_type": "markdown",
   "id": "a2fa4c31",
   "metadata": {},
   "source": [
    "![](./exercise2.png)"
   ]
  },
  {
   "cell_type": "markdown",
   "id": "4696cbe7",
   "metadata": {},
   "source": [
    "whe have mycss.css so the link is **http://mercury.picoctf.net:39491/mycss.css**\n",
    "also we have myjs.js **http://mercury.picoctf.net:39491/myjs.js**"
   ]
  },
  {
   "cell_type": "markdown",
   "id": "ef2cce57",
   "metadata": {},
   "source": [
    "![](./exercise2.1.png)"
   ]
  },
  {
   "cell_type": "markdown",
   "id": "e8a1483b",
   "metadata": {},
   "source": [
    "css file\n",
    "Flag: h4ts_4_l0"
   ]
  },
  {
   "cell_type": "markdown",
   "id": "62ed6275",
   "metadata": {},
   "source": [
    "![](./exercise2.2.png)"
   ]
  },
  {
   "cell_type": "markdown",
   "id": "c44c329b",
   "metadata": {},
   "source": [
    "js file"
   ]
  },
  {
   "cell_type": "markdown",
   "id": "2cce24f2",
   "metadata": {},
   "source": [
    "![](./exercise2.3.png)"
   ]
  },
  {
   "cell_type": "markdown",
   "id": "0e6ad03e",
   "metadata": {},
   "source": [
    "we have robots.txt it is used to manage the traffic of trackers.\n",
    "Flag: t_0f_pl4c"
   ]
  },
  {
   "cell_type": "markdown",
   "id": "427f0d38",
   "metadata": {},
   "source": [
    "![](./exercise2.4.png)"
   ]
  },
  {
   "cell_type": "raw",
   "id": "2cce5044",
   "metadata": {},
   "source": [
    "Also .htaccess \n",
    "Flag: 3s_2_lO0k"
   ]
  },
  {
   "cell_type": "markdown",
   "id": "8163a92b",
   "metadata": {},
   "source": [
    "![](./exercise2.5.png)"
   ]
  },
  {
   "cell_type": "raw",
   "id": "29534d61",
   "metadata": {},
   "source": [
    "and finally .DS_Store\n",
    "Flag: _f7ce8828}"
   ]
  },
  {
   "cell_type": "markdown",
   "id": "41545041",
   "metadata": {},
   "source": [
    "![](./exercise2.6.png)"
   ]
  },
  {
   "cell_type": "markdown",
   "id": "e87c8774",
   "metadata": {},
   "source": [
    "picoCTF{th4ts_4_l0t_0f_pl4c3s_2_lO0k_f7ce8828}"
   ]
  },
  {
   "cell_type": "markdown",
   "id": "eb7dd6d4",
   "metadata": {},
   "source": [
    "## 3. findme\n",
    "### Help us test the form by submiting the username as test and password as test! Additional details will be available after launching your challenge instance.\n"
   ]
  },
  {
   "cell_type": "markdown",
   "id": "9dba1a0a",
   "metadata": {},
   "source": [
    "![](./exercise3.png)"
   ]
  },
  {
   "cell_type": "markdown",
   "id": "df740014",
   "metadata": {},
   "source": [
    "![](./exercise3.1.png)"
   ]
  },
  {
   "cell_type": "code",
   "execution_count": null,
   "id": "14f91811",
   "metadata": {},
   "outputs": [],
   "source": []
  }
 ],
 "metadata": {
  "kernelspec": {
   "display_name": "Python 3",
   "language": "python",
   "name": "python3"
  },
  "language_info": {
   "codemirror_mode": {
    "name": "ipython",
    "version": 3
   },
   "file_extension": ".py",
   "mimetype": "text/x-python",
   "name": "python",
   "nbconvert_exporter": "python",
   "pygments_lexer": "ipython3",
   "version": "3.8.8"
  }
 },
 "nbformat": 4,
 "nbformat_minor": 5
}
